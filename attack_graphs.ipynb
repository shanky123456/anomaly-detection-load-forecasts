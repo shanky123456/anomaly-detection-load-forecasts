{
 "cells": [
  {
   "cell_type": "code",
   "execution_count": 1,
   "id": "f8d66ff0",
   "metadata": {},
   "outputs": [
    {
     "name": "stdout",
     "output_type": "stream",
     "text": [
      "       SystemLoad       Date  Hour\n",
      "0           12230 2004-01-01     1\n",
      "1           11534 2004-01-01     2\n",
      "2           11038 2004-01-01     3\n",
      "3           10777 2004-01-01     4\n",
      "4           10764 2004-01-01     5\n",
      "...           ...        ...   ...\n",
      "43843       18563 2008-12-31    20\n",
      "43844       17825 2008-12-31    21\n",
      "43845       17038 2008-12-31    22\n",
      "43846       16199 2008-12-31    23\n",
      "43847       15438 2008-12-31    24\n",
      "\n",
      "[43848 rows x 3 columns]\n"
     ]
    }
   ],
   "source": [
    "import numpy as np \n",
    "import matplotlib.pyplot as plt \n",
    "import pandas as pd\n",
    "\n",
    "df = pd.read_excel(\"EnergyData.xlsx\")\n",
    "print(df)"
   ]
  },
  {
   "cell_type": "code",
   "execution_count": 2,
   "id": "991b5090",
   "metadata": {},
   "outputs": [],
   "source": [
    "import datetime as dt\n",
    "from scipy.interpolate import make_interp_spline\n",
    "from scipy.interpolate import interp1d\n",
    "import numpy as np\n",
    "from datetime import time\n",
    "from random import random\n",
    "import random\n",
    "\n",
    "\n",
    "\n",
    "\n",
    "def pulse_attack(df,dd,mm,yy,attack_point_time,pulse_parameter):\n",
    "    row_num = []\n",
    "    new_date=dt.date(yy,mm,dd)\n",
    "    random_parameter=0\n",
    "    for i in df.index:\n",
    "        if(df['Date'][i]==new_date ):\n",
    "            if(df['Hour'][i]==attack_point_time):\n",
    "                df['SystemLoad'][i]=df['SystemLoad'][i]*(1+pulse_parameter)\n",
    "                details=[]\n",
    "                details.append(df['Date'][i])\n",
    "                details.append(df['Hour'][i])\n",
    "                row_num.append(details)                \n",
    "\n",
    "    print(\"Random Attack succesfully done on following data points : \")\n",
    "    print(row_num)\n",
    "\n",
    "    \n",
    "\n",
    "def ramping_attack(ramping_parameter,df,dd,mm,yy,starting_time,ending_time):\n",
    "    row_num =[]\n",
    "    new_date = dt.date(yy,mm,dd)\n",
    "    avg_time=starting_time+ending_time\n",
    "    avg_time=avg_time/2    \n",
    "    for i in df.index:\n",
    "\n",
    "        if(df['Date'][i]==new_date):\n",
    "            if(df['Hour'][i]>starting_time and df['Hour'][i]<avg_time):\n",
    "                df['SystemLoad'][i]=df['SystemLoad'][i]*(1+ramping_parameter*(df['Hour'][i]-starting_time))\n",
    "                details=[]\n",
    "                details.append(df['Date'][i])\n",
    "                details.append(df['Hour'][i])\n",
    "                row_num.append(details)       \n",
    "            if(df['Hour'][i]>avg_time and df['Hour'][i]<ending_time):\n",
    "                df['SystemLoad'][i]=df['SystemLoad'][i]*(1+ramping_parameter*(ending_time-df['Hour'][i]))\n",
    "                details=[]\n",
    "                details.append(df['Date'][i])\n",
    "                details.append(df['Hour'][i])\n",
    "                row_num.append(details)                \n",
    "    print(\"Ramping Attack succesfully done on following data points : \")\n",
    "    print(row_num)\n",
    "    \n",
    "    \n",
    "    \n",
    "    \n",
    "def random_attack(df,dd,mm,yy,starting_time,ending_time):\n",
    "    row_num = []\n",
    "    new_date=dt.date(yy,mm,dd)\n",
    "    random_parameter=0\n",
    "    for i in df.index:\n",
    "        if(df['Date'][i]==new_date ):\n",
    "            if(df['Hour'][i]>starting_time and df['Hour'][i]<ending_time):\n",
    "                if(random_parameter<df['SystemLoad'][i]):\n",
    "                    random_parameter=df['SystemLoad'][i]\n",
    "                \n",
    "                \n",
    "    random_parameter=random_parameter/2                                                      \n",
    "                \n",
    "    for i in df.index:\n",
    "        if(df['Date'][i]==new_date):\n",
    "            if(df['Hour'][i]>starting_time and df['Hour'][i]<ending_time):\n",
    "                df['SystemLoad'][i]=df['SystemLoad'][i]+random_parameter*random.random()\n",
    "                details=[]\n",
    "                details.append(df['Date'][i])\n",
    "                details.append(df['Hour'][i])\n",
    "                row_num.append(details)\n",
    "    print(\"Random Attack succesfully done on following data points : \")\n",
    "    print(row_num)   \n",
    "\n",
    "\n",
    "def scaling_attack(scaling_parameter,df,dd,mm,yy,starting_time,ending_time):\n",
    "    row_num=[]\n",
    "    \n",
    "    new_date = dt.date(yy,mm,dd)\n",
    "    for i in df.index:\n",
    "        if(df['Date'][i]==new_date and df['Hour'][i]>=starting_time and df['Hour'][i]<=ending_time):\n",
    "            df['SystemLoad'][i]=df['SystemLoad'][i]*(1+scaling_parameter)\n",
    "            details=[]\n",
    "            details.append(df['Date'][i])\n",
    "            details.append(df['Hour'][i])\n",
    "            row_num.append(details)\n",
    "    print(\"Scaling Attack succesfully done on following data points : \")\n",
    "    print(row_num)    "
   ]
  },
  {
   "cell_type": "code",
   "execution_count": 3,
   "id": "fb499fbc",
   "metadata": {},
   "outputs": [
    {
     "name": "stdout",
     "output_type": "stream",
     "text": [
      "2005-01-05\n"
     ]
    },
    {
     "name": "stderr",
     "output_type": "stream",
     "text": [
      "<ipython-input-2-88704b8b5d6b>:39: SettingWithCopyWarning: \n",
      "A value is trying to be set on a copy of a slice from a DataFrame\n",
      "\n",
      "See the caveats in the documentation: https://pandas.pydata.org/pandas-docs/stable/user_guide/indexing.html#returning-a-view-versus-a-copy\n",
      "  df['SystemLoad'][i]=df['SystemLoad'][i]*(1+ramping_parameter*(df['Hour'][i]-starting_time))\n",
      "<ipython-input-2-88704b8b5d6b>:45: SettingWithCopyWarning: \n",
      "A value is trying to be set on a copy of a slice from a DataFrame\n",
      "\n",
      "See the caveats in the documentation: https://pandas.pydata.org/pandas-docs/stable/user_guide/indexing.html#returning-a-view-versus-a-copy\n",
      "  df['SystemLoad'][i]=df['SystemLoad'][i]*(1+ramping_parameter*(ending_time-df['Hour'][i]))\n"
     ]
    },
    {
     "name": "stdout",
     "output_type": "stream",
     "text": [
      "Ramping Attack succesfully done on following data points : \n",
      "[[Timestamp('2005-01-05 00:00:00'), 3], [Timestamp('2005-01-05 00:00:00'), 4], [Timestamp('2005-01-05 00:00:00'), 5], [Timestamp('2005-01-05 00:00:00'), 7], [Timestamp('2005-01-05 00:00:00'), 8], [Timestamp('2005-01-05 00:00:00'), 9]]\n",
      "2005-01-05\n",
      "[12086, 11611, 11419, 11410, 11712, 12935, 15282, 16837, 17151, 17379, 17660, 17742, 17704, 17731, 17616, 17699, 18856, 19966, 19790, 19252, 18429, 17170, 15567, 14056]\n",
      ".....\n",
      "[12086, 11611, 17128, 22820, 29280, 12935, 38205, 33674, 25726, 17379, 17660, 17742, 17704, 17731, 17616, 17699, 18856, 19966, 19790, 19252, 18429, 17170, 15567, 14056]\n"
     ]
    }
   ],
   "source": [
    "x_before_attack = []\n",
    "y_before_attack = [1,2,3,4,5,6,7,8,9,10,11,12,13,14,15,16,17,18,19,20,21,22,23,24]\n",
    "\n",
    "x_after_attack = []\n",
    "y_after_attack = [1,2,3,4,5,6,7,8,9,10,11,12,13,14,15,16,17,18,19,20,21,22,23,24]\n",
    "\n",
    "def get_values(df,dd,mm,yy):\n",
    "    data = []\n",
    "    new_date=dt.date(yy,mm,dd)\n",
    "    print(new_date)\n",
    "    \n",
    "    for i in df.index:\n",
    "#         yy1=int(df['Date'][i][0:4])\n",
    "#         mm1=int(df['Date'][i][5:7])\n",
    "#         dd1=int(df['Date'][i][8:10])\n",
    "#         typecasted_date=dt.date(yy1,mm1,dd1)\n",
    "        if(df['Date'][i]==new_date ):\n",
    "            \n",
    "            data.append(df['SystemLoad'][i])\n",
    "#     print(data)                \n",
    "    return data;\n",
    "\n",
    "\n",
    "\n",
    "x_before_attack = get_values(df,5,1,2005)\n",
    "\n",
    "ramping_attack(0.5,df,5,1,2005,2,10)\n",
    "\n",
    "x_after_attack = get_values(df,5,1,2005)\n",
    "\n",
    "\n",
    "print(x_before_attack)\n",
    "print(\".....\")\n",
    "print(x_after_attack)\n",
    "\n",
    "\n",
    "\n",
    "\n",
    "\n",
    "    "
   ]
  },
  {
   "cell_type": "code",
   "execution_count": 4,
   "id": "69071ede",
   "metadata": {},
   "outputs": [
    {
     "data": {
      "image/png": "[encoded data removed]",
      "text/plain": [
       "<Figure size 432x288 with 1 Axes>"
      ]
     },
     "metadata": {
      "needs_background": "light"
     },
     "output_type": "display_data"
    },
    {
     "data": {
      "image/png": "[encoded data removed]",
      "text/plain": [
       "<Figure size 432x288 with 1 Axes>"
      ]
     },
     "metadata": {
      "needs_background": "light"
     },
     "output_type": "display_data"
    }
   ],
   "source": [
    "import matplotlib.pyplot as plt\n",
    "\n",
    "plt.plot(y_before_attack,x_before_attack)\n",
    "plt.ylabel('Non attacked System Load Values')\n",
    "plt.xlabel('Hour')\n",
    "plt.title('Non attacked Scenario')\n",
    "plt.show()\n",
    "\n",
    "\n",
    "\n",
    "plt.plot(y_after_attack,x_after_attack)\n",
    "plt.ylabel('Attacked System Load Values')\n",
    "plt.xlabel('Hour')\n",
    "plt.title('Attacked Scenario Ramping Attack')\n",
    "plt.show()\n",
    "\n",
    "\n",
    "\n",
    "\n",
    "\n",
    "\n",
    "\n",
    "\n",
    "\n",
    "\n"
   ]
  },
  {
   "cell_type": "code",
   "execution_count": null,
   "id": "abfb46eb",
   "metadata": {},
   "outputs": [],
   "source": []
  }
 ],
 "metadata": {
  "kernelspec": {
   "display_name": "Python 3",
   "language": "python",
   "name": "python3"
  },
  "language_info": {
   "codemirror_mode": {
    "name": "ipython",
    "version": 3
   },
   "file_extension": ".py",
   "mimetype": "text/x-python",
   "name": "python",
   "nbconvert_exporter": "python",
   "pygments_lexer": "ipython3",
   "version": "3.8.8"
  }
 },
 "nbformat": 4,
 "nbformat_minor": 5
}
