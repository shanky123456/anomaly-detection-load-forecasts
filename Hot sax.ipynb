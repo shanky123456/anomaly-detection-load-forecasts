{
 "cells": [
  {
   "cell_type": "code",
   "execution_count": null,
   "id": "30b91938",
   "metadata": {
    "scrolled": true
   },
   "outputs": [],
   "source": [
    "import numpy as np\n",
    "import pandas as pd\n",
    "import scipy.stats as stats\n",
    "from saxpy.hotsax import find_discords_hotsax\n",
    "from numpy import genfromtxt\n",
    "\n",
    "val = genfromtxt(\"d1.csv\", delimiter=',') \n",
    "val = val[:,0]\n",
    "dd = stats.zscore(val)\n",
    "dd\n",
    "discords = find_discords_hotsax(dd,win_size=20,num_discords=1)\n",
    "discords"
   ]
  }
 ],
 "metadata": {
  "kernelspec": {
   "display_name": "Python 3",
   "language": "python",
   "name": "python3"
  },
  "language_info": {
   "codemirror_mode": {
    "name": "ipython",
    "version": 3
   },
   "file_extension": ".py",
   "mimetype": "text/x-python",
   "name": "python",
   "nbconvert_exporter": "python",
   "pygments_lexer": "ipython3",
   "version": "3.8.8"
  }
 },
 "nbformat": 4,
 "nbformat_minor": 5
}
