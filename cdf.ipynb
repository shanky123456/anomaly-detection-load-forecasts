{
 "cells": [
  {
   "cell_type": "code",
   "execution_count": 64,
   "id": "c5263dbc",
   "metadata": {},
   "outputs": [
    {
     "name": "stdout",
     "output_type": "stream",
     "text": [
      "       SystemLoad        Date  Hour\n",
      "0           12230  2004-01-01     1\n",
      "1           17301  2004-01-01     2\n",
      "2           16557  2004-01-01     3\n",
      "3           16165  2004-01-01     4\n",
      "4           16146  2004-01-01     5\n",
      "...           ...         ...   ...\n",
      "43843       18563  2008-12-31    20\n",
      "43844       17825  2008-12-31    21\n",
      "43845       17038  2008-12-31    22\n",
      "43846       16199  2008-12-31    23\n",
      "43847       15438  2008-12-31    24\n",
      "\n",
      "[43848 rows x 3 columns]\n"
     ]
    }
   ],
   "source": [
    "import numpy as np \n",
    "import matplotlib.pyplot as plt \n",
    "import pandas as pd\n",
    "\n",
    "df = pd.read_csv(\"all_scaling.csv\")\n",
    "print(df)"
   ]
  },
  {
   "cell_type": "code",
   "execution_count": 90,
   "id": "da20079e",
   "metadata": {},
   "outputs": [
    {
     "name": "stdout",
     "output_type": "stream",
     "text": [
      "2004-12-14\n",
      "[12570, 12025, 11830, 17739, 18211, 20094, 23721, 25923, 26323, 26409, 26382, 26247, 26044, 26049, 26074, 26332, 19295, 20818, 20848, 20415, 19810, 18587, 16709, 14902]\n"
     ]
    }
   ],
   "source": [
    "\n",
    "import datetime as dt\n",
    "from scipy.interpolate import make_interp_spline\n",
    "from scipy.interpolate import interp1d\n",
    "import numpy as np\n",
    "from datetime import time\n",
    "from random import random\n",
    "\n",
    "\n",
    "\n",
    "\n",
    "data=[]\n",
    "def cdf(df,dd,mm,yy):\n",
    "    \n",
    "    new_date=dt.date(yy,mm,dd)\n",
    "    print(new_date)\n",
    "    \n",
    "    for i in df.index:\n",
    "        yy1=int(df['Date'][i][0:4])\n",
    "        mm1=int(df['Date'][i][5:7])\n",
    "        dd1=int(df['Date'][i][8:10])\n",
    "        typecasted_date=dt.date(yy1,mm1,dd1)\n",
    "        if(typecasted_date==new_date ):\n",
    "            \n",
    "            data.append(df['SystemLoad'][i])\n",
    "    print(data)                \n",
    "cdf(df,14,12,2004)\n",
    "\n",
    "\n",
    "\n",
    "    \n",
    "    \n",
    "    "
   ]
  },
  {
   "cell_type": "code",
   "execution_count": 91,
   "id": "60471d70",
   "metadata": {},
   "outputs": [
    {
     "data": {
      "image/png": "[encoded data removed]",
      "text/plain": [
       "<Figure size 432x288 with 1 Axes>"
      ]
     },
     "metadata": {
      "needs_background": "light"
     },
     "output_type": "display_data"
    }
   ],
   "source": [
    "import numpy as np\n",
    "import matplotlib.pyplot as plt\n",
    "from scipy import stats\n",
    "\n",
    "# generate some random data\n",
    "# data = np.random.normal(loc=0, scale=1, size=1000)\n",
    "\n",
    "# calculate the CDF\n",
    "x = np.sort(data)\n",
    "y = np.arange(1,len(data)+1) / float(len(data))\n",
    "\n",
    "# plot the CDF\n",
    "plt.plot(x, y)\n",
    "plt.xlabel('Data')\n",
    "plt.ylabel('Cumulative Probability')\n",
    "plt.title('CDF Plot')\n",
    "plt.show()\n"
   ]
  },
  {
   "cell_type": "code",
   "execution_count": 92,
   "id": "eb50530f",
   "metadata": {},
   "outputs": [
    {
     "name": "stdout",
     "output_type": "stream",
     "text": [
      "0.041666666666666664\n",
      "0.08333333333333333\n",
      "0.125\n",
      "0.16666666666666666\n",
      "0.20833333333333334\n",
      "0.25\n",
      "0.2916666666666667\n",
      "0.3333333333333333\n",
      "0.375\n",
      "0.4166666666666667\n",
      "0.4583333333333333\n",
      "0.5\n",
      "0.5416666666666666\n",
      "0.5833333333333334\n",
      "0.625\n",
      "0.6666666666666666\n",
      "0.7083333333333334\n",
      "0.75\n",
      "0.7916666666666666\n",
      "0.8333333333333334\n",
      "0.875\n",
      "0.9166666666666666\n",
      "0.9583333333333334\n",
      "1.0\n"
     ]
    }
   ],
   "source": [
    "for i in range(0,len(y)):\n",
    "    print(y[i])"
   ]
  },
  {
   "cell_type": "code",
   "execution_count": 85,
   "id": "97dc15a7",
   "metadata": {},
   "outputs": [
    {
     "data": {
      "text/plain": [
       "24.0"
      ]
     },
     "execution_count": 85,
     "metadata": {},
     "output_type": "execute_result"
    }
   ],
   "source": [
    "float(len(data))"
   ]
  },
  {
   "cell_type": "code",
   "execution_count": 86,
   "id": "aa8d6e1a",
   "metadata": {},
   "outputs": [
    {
     "data": {
      "text/plain": [
       "array([ 0,  1,  2,  3,  4,  5,  6,  7,  8,  9, 10, 11, 12, 13, 14, 15, 16,\n",
       "       17, 18, 19, 20, 21, 22, 23])"
      ]
     },
     "execution_count": 86,
     "metadata": {},
     "output_type": "execute_result"
    }
   ],
   "source": [
    "np.arange(len(data))"
   ]
  },
  {
   "cell_type": "code",
   "execution_count": null,
   "id": "10aad345",
   "metadata": {},
   "outputs": [],
   "source": []
  },
  {
   "cell_type": "code",
   "execution_count": null,
   "id": "72013284",
   "metadata": {},
   "outputs": [],
   "source": []
  }
 ],
 "metadata": {
  "kernelspec": {
   "display_name": "Python 3",
   "language": "python",
   "name": "python3"
  },
  "language_info": {
   "codemirror_mode": {
    "name": "ipython",
    "version": 3
   },
   "file_extension": ".py",
   "mimetype": "text/x-python",
   "name": "python",
   "nbconvert_exporter": "python",
   "pygments_lexer": "ipython3",
   "version": "3.8.8"
  }
 },
 "nbformat": 4,
 "nbformat_minor": 5
}
